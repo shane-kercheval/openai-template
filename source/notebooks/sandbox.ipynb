{
 "cells": [
  {
   "cell_type": "code",
   "execution_count": 20,
   "metadata": {},
   "outputs": [
    {
     "name": "stdout",
     "output_type": "stream",
     "text": [
      "True\n",
      "100\n",
      "postgresql://localhost/mydb\n"
     ]
    }
   ],
   "source": [
    "from pydantic import BaseModel\n",
    "from pydantic import ValidationError\n",
    "\n",
    "\n",
    "class AppConfig(BaseModel):\n",
    "    debug: bool = False\n",
    "    max_users: int = 100\n",
    "    db_url: str\n",
    "\n",
    "config_data = {\n",
    "    \"debug\": True,\n",
    "    \"db_url\": \"postgresql://localhost/mydb\",\n",
    "}\n",
    "\n",
    "app_config = AppConfig(**config_data)\n",
    "\n",
    "# Validate the config data\n",
    "print(app_config.debug)\n",
    "print(app_config.max_users)\n",
    "print(app_config.db_url)\n",
    "\n",
    "# should convert to False\n",
    "app_config = AppConfig(debug='False', db_url=\"postgresql://localhost/mydb\",)\n",
    "assert not app_config.debug\n",
    "\n",
    "# should fail because we cannot convert 'asdf' to bool\n",
    "import pytest\n",
    "with pytest.raises(ValidationError) as exc_info:\n",
    "    app_config = AppConfig(debug='asdf', db_url=\"postgresql://localhost/mydb\")"
   ]
  },
  {
   "cell_type": "code",
   "execution_count": 22,
   "metadata": {},
   "outputs": [],
   "source": [
    "from dataclasses import dataclass\n",
    "\n",
    "@dataclass\n",
    "class AppConfig():\n",
    "    db_url: str\n",
    "    debug: bool = False\n",
    "    max_users: int = 100\n",
    "\n",
    "# this works, whereas pydantic fails because it's an unexpected value\n",
    "app_config = AppConfig(debug='asdf', db_url=\"postgresql://localhost/mydb\")\n"
   ]
  }
 ],
 "metadata": {
  "kernelspec": {
   "display_name": "Python 3",
   "language": "python",
   "name": "python3"
  },
  "language_info": {
   "codemirror_mode": {
    "name": "ipython",
    "version": 3
   },
   "file_extension": ".py",
   "mimetype": "text/x-python",
   "name": "python",
   "nbconvert_exporter": "python",
   "pygments_lexer": "ipython3",
   "version": "3.11.3"
  },
  "orig_nbformat": 4
 },
 "nbformat": 4,
 "nbformat_minor": 2
}
