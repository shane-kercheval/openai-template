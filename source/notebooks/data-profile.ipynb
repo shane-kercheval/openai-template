{
 "cells": [
  {
   "cell_type": "markdown",
   "id": "564aa887",
   "metadata": {
    "pycharm": {
     "name": "#%% md\n"
    }
   },
   "source": [
    "This files creates the training and test datasets for all other notebooks and scripts to reuse. This is the file I would typically use for an exploratory analysis."
   ]
  },
  {
   "cell_type": "code",
   "execution_count": 1,
   "id": "ec01c1ce",
   "metadata": {
    "pycharm": {
     "name": "#%%\n"
    }
   },
   "outputs": [],
   "source": [
    "%run \"/code/source/notebooks/notebook_settings.py\"\n",
    "import os\n",
    "import pandas as pd\n",
    "from helpsk.utility import Timer\n",
    "from helpsk.pandas import numeric_summary, non_numeric_summary\n",
    "from source.service.datasets import DATA"
   ]
  },
  {
   "cell_type": "markdown",
   "id": "f055efe1",
   "metadata": {},
   "source": [
    "# Data"
   ]
  },
  {
   "cell_type": "code",
   "execution_count": 9,
   "id": "624dedbc",
   "metadata": {},
   "outputs": [
    {
     "name": "stderr",
     "output_type": "stream",
     "text": [
      "2023-04-09 16:36:02 - INFO     | Loading data `reddit` from `data/processed/reddit.pkl`\n"
     ]
    },
    {
     "name": "stdout",
     "output_type": "stream",
     "text": [
      "Timer Started: Loading Data\n",
      "Timer Finished (0.01 seconds)\n"
     ]
    }
   ],
   "source": [
    "with Timer(\"Loading Data\"):\n",
    "    reddit = DATA.reddit.load()"
   ]
  },
  {
   "cell_type": "code",
   "execution_count": 10,
   "id": "ebea0c53",
   "metadata": {
    "pycharm": {
     "name": "#%%\n"
    }
   },
   "outputs": [],
   "source": [
    "numeric_summary(reddit)"
   ]
  },
  {
   "cell_type": "code",
   "execution_count": 11,
   "id": "81c892b0",
   "metadata": {
    "pycharm": {
     "name": "#%%\n"
    }
   },
   "outputs": [
    {
     "data": {
      "text/html": [
       "<style type=\"text/css\">\n",
       "#T_dd6db_row0_col2, #T_dd6db_row1_col2, #T_dd6db_row2_col2, #T_dd6db_row3_col2, #T_dd6db_row4_col2 {\n",
       "  width: 10em;\n",
       "}\n",
       "#T_dd6db_row0_col5, #T_dd6db_row2_col5, #T_dd6db_row3_col5, #T_dd6db_row4_col5 {\n",
       "  width: 10em;\n",
       "  background: linear-gradient(90deg, #B4B7B9 100.0%, transparent 100.0%);\n",
       "}\n",
       "#T_dd6db_row1_col5 {\n",
       "  width: 10em;\n",
       "  background: linear-gradient(90deg, #B4B7B9 0.1%, transparent 0.1%);\n",
       "}\n",
       "</style>\n",
       "<table id=\"T_dd6db\">\n",
       "  <thead>\n",
       "    <tr>\n",
       "      <th class=\"blank level0\" >&nbsp;</th>\n",
       "      <th id=\"T_dd6db_level0_col0\" class=\"col_heading level0 col0\" ># of Non-Nulls</th>\n",
       "      <th id=\"T_dd6db_level0_col1\" class=\"col_heading level0 col1\" ># of Nulls</th>\n",
       "      <th id=\"T_dd6db_level0_col2\" class=\"col_heading level0 col2\" >% Nulls</th>\n",
       "      <th id=\"T_dd6db_level0_col3\" class=\"col_heading level0 col3\" >Most Freq. Value</th>\n",
       "      <th id=\"T_dd6db_level0_col4\" class=\"col_heading level0 col4\" ># of Unique</th>\n",
       "      <th id=\"T_dd6db_level0_col5\" class=\"col_heading level0 col5\" >% Unique</th>\n",
       "    </tr>\n",
       "  </thead>\n",
       "  <tbody>\n",
       "    <tr>\n",
       "      <th id=\"T_dd6db_level0_row0\" class=\"row_heading level0 row0\" >id</th>\n",
       "      <td id=\"T_dd6db_row0_col0\" class=\"data row0 col0\" >1,000</td>\n",
       "      <td id=\"T_dd6db_row0_col1\" class=\"data row0 col1\" >0</td>\n",
       "      <td id=\"T_dd6db_row0_col2\" class=\"data row0 col2\" >0.0%</td>\n",
       "      <td id=\"T_dd6db_row0_col3\" class=\"data row0 col3\" >6y0l40</td>\n",
       "      <td id=\"T_dd6db_row0_col4\" class=\"data row0 col4\" >1,000</td>\n",
       "      <td id=\"T_dd6db_row0_col5\" class=\"data row0 col5\" >100.0%</td>\n",
       "    </tr>\n",
       "    <tr>\n",
       "      <th id=\"T_dd6db_level0_row1\" class=\"row_heading level0 row1\" >subreddit</th>\n",
       "      <td id=\"T_dd6db_row1_col0\" class=\"data row1 col0\" >1,000</td>\n",
       "      <td id=\"T_dd6db_row1_col1\" class=\"data row1 col1\" >0</td>\n",
       "      <td id=\"T_dd6db_row1_col2\" class=\"data row1 col2\" >0.0%</td>\n",
       "      <td id=\"T_dd6db_row1_col3\" class=\"data row1 col3\" >Volvo</td>\n",
       "      <td id=\"T_dd6db_row1_col4\" class=\"data row1 col4\" >1</td>\n",
       "      <td id=\"T_dd6db_row1_col5\" class=\"data row1 col5\" >0.1%</td>\n",
       "    </tr>\n",
       "    <tr>\n",
       "      <th id=\"T_dd6db_level0_row2\" class=\"row_heading level0 row2\" >title</th>\n",
       "      <td id=\"T_dd6db_row2_col0\" class=\"data row2 col0\" >1,000</td>\n",
       "      <td id=\"T_dd6db_row2_col1\" class=\"data row2 col1\" >0</td>\n",
       "      <td id=\"T_dd6db_row2_col2\" class=\"data row2 col2\" >0.0%</td>\n",
       "      <td id=\"T_dd6db_row2_col3\" class=\"data row2 col3\" >2012 c30 spoiler holding water</td>\n",
       "      <td id=\"T_dd6db_row2_col4\" class=\"data row2 col4\" >1,000</td>\n",
       "      <td id=\"T_dd6db_row2_col5\" class=\"data row2 col5\" >100.0%</td>\n",
       "    </tr>\n",
       "    <tr>\n",
       "      <th id=\"T_dd6db_level0_row3\" class=\"row_heading level0 row3\" >post</th>\n",
       "      <td id=\"T_dd6db_row3_col0\" class=\"data row3 col0\" >1,000</td>\n",
       "      <td id=\"T_dd6db_row3_col1\" class=\"data row3 col1\" >0</td>\n",
       "      <td id=\"T_dd6db_row3_col2\" class=\"data row3 col2\" >0.0%</td>\n",
       "      <td id=\"T_dd6db_row3_col3\" class=\"data row3 col3\" >Lately my car has been a magne[...]</td>\n",
       "      <td id=\"T_dd6db_row3_col4\" class=\"data row3 col4\" >1,000</td>\n",
       "      <td id=\"T_dd6db_row3_col5\" class=\"data row3 col5\" >100.0%</td>\n",
       "    </tr>\n",
       "    <tr>\n",
       "      <th id=\"T_dd6db_level0_row4\" class=\"row_heading level0 row4\" >text</th>\n",
       "      <td id=\"T_dd6db_row4_col0\" class=\"data row4 col0\" >1,000</td>\n",
       "      <td id=\"T_dd6db_row4_col1\" class=\"data row4 col1\" >0</td>\n",
       "      <td id=\"T_dd6db_row4_col2\" class=\"data row4 col2\" >0.0%</td>\n",
       "      <td id=\"T_dd6db_row4_col3\" class=\"data row4 col3\" >2012 c30 spoiler holding water[...]</td>\n",
       "      <td id=\"T_dd6db_row4_col4\" class=\"data row4 col4\" >1,000</td>\n",
       "      <td id=\"T_dd6db_row4_col5\" class=\"data row4 col5\" >100.0%</td>\n",
       "    </tr>\n",
       "  </tbody>\n",
       "</table>\n"
      ],
      "text/plain": [
       "<pandas.io.formats.style.Styler at 0xffff34dca690>"
      ]
     },
     "execution_count": 11,
     "metadata": {},
     "output_type": "execute_result"
    }
   ],
   "source": [
    "non_numeric_summary(reddit)"
   ]
  },
  {
   "cell_type": "markdown",
   "id": "a3e76191",
   "metadata": {},
   "source": [
    "---"
   ]
  },
  {
   "cell_type": "code",
   "execution_count": 12,
   "id": "7536e719",
   "metadata": {},
   "outputs": [
    {
     "data": {
      "text/plain": [
       "0    2012 c30 spoiler holding water - Lately my car has been a magnet for for dings and other mishaps while parked in my reserved spot and have been parking elsewhere which is unfortunately under a tre...\n",
       "1    About to purchase 2014 V60, anything I should be aware of? - My 2004 V50 is slowly but surely giving up, it feels like I replaced half of the replaceable parts and got the other half repaired with...\n",
       "2    Experiencing the new XC60 - I test drove the XC60 T8 yesterday and Oh. My. God is it quick. I was obviously aware of the performance numbers (bhp, 0-60 times etc), but it's a completely different ...\n",
       "3    Pilot Assist 2 upgrade 2016 xc90 - I am looking to pick up a used 2016 and am really interested in the Pilot Assist 2 retro fit upgrade that can be added.<lb><lb>What do i need to look for to make...\n",
       "4    2013 XC60 Negotiation with Volvo dealership - I am in the middle of a negotiation on the price of a 2013 XC60. We are off by 1k. I am debating about throwing out a request that he upgrades the sof...\n",
       "Name: text, dtype: object"
      ]
     },
     "execution_count": 12,
     "metadata": {},
     "output_type": "execute_result"
    }
   ],
   "source": [
    "reddit['text'].head()"
   ]
  },
  {
   "attachments": {},
   "cell_type": "markdown",
   "id": "98a3e7ac",
   "metadata": {},
   "source": [
    "---"
   ]
  },
  {
   "cell_type": "code",
   "execution_count": 13,
   "id": "27b7e6dc",
   "metadata": {},
   "outputs": [],
   "source": [
    "from source.library.openai_pricing import cost"
   ]
  },
  {
   "cell_type": "code",
   "execution_count": null,
   "id": "e8839881",
   "metadata": {},
   "outputs": [],
   "source": [
    "cost(reddit['text'], model='bab')"
   ]
  }
 ],
 "metadata": {
  "kernelspec": {
   "display_name": "Python 3.9.13 64-bit",
   "language": "python",
   "name": "python3"
  },
  "language_info": {
   "codemirror_mode": {
    "name": "ipython",
    "version": 3
   },
   "file_extension": ".py",
   "mimetype": "text/x-python",
   "name": "python",
   "nbconvert_exporter": "python",
   "pygments_lexer": "ipython3",
   "version": "3.11.3"
  },
  "toc": {
   "base_numbering": 1,
   "nav_menu": {},
   "number_sections": false,
   "sideBar": true,
   "skip_h1_title": false,
   "title_cell": "Table of Contents",
   "title_sidebar": "Contents",
   "toc_cell": false,
   "toc_position": {
    "height": "calc(100% - 180px)",
    "left": "10px",
    "top": "150px",
    "width": "298px"
   },
   "toc_section_display": true,
   "toc_window_display": true
  },
  "vscode": {
   "interpreter": {
    "hash": "949777d72b0d2535278d3dc13498b2535136f6dfe0678499012e853ee9abcab1"
   }
  }
 },
 "nbformat": 4,
 "nbformat_minor": 5
}
