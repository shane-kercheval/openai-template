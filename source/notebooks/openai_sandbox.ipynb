{
 "cells": [
  {
   "cell_type": "code",
   "execution_count": 1,
   "metadata": {},
   "outputs": [],
   "source": [
    "%run \"/code/source/notebooks/notebook_settings.py\"\n",
    "import source.library.openai as oai\n",
    "# This is needed because openai.text_completion calls asynchronous functions but \n",
    "# Jupyter is already running its own event loop.\n",
    "import nest_asyncio\n",
    "nest_asyncio.apply()\n",
    "\n",
    "with open('/.openai_api_key', 'r') as handle:\n",
    "    oai.API_KEY = handle.read().strip()"
   ]
  },
  {
   "cell_type": "code",
   "execution_count": 2,
   "metadata": {},
   "outputs": [],
   "source": [
    "def generate_prompt(package: str) -> str:\n",
    "    template = f\"\"\"\n",
    "    Describe the {package} python package, if it exists. Be as accurate as possible\n",
    "    and don't create descriptions for packages that don't exist.\n",
    "    \"\"\"\n",
    "    return template\n",
    "\n",
    "packages = ['holoviews', 'bokeh', 'leather', 'pymc3', 'easyfinance']\n",
    "prompts = [generate_prompt(x) for x in packages]\n",
    "responses = oai.text_completion(model=oai.InstructModels.BABBAGE, prompts=prompts, max_tokens=200)\n",
    "responses"
   ]
  },
  {
   "cell_type": "code",
   "execution_count": 13,
   "metadata": {},
   "outputs": [
    {
     "name": "stdout",
     "output_type": "stream",
     "text": [
      "0.0001615\n",
      "323\n"
     ]
    }
   ],
   "source": [
    "assert not responses.any_errors\n",
    "print(responses.total_cost)\n",
    "assert responses.total_cost < 10\n",
    "print(responses.total_tokens)"
   ]
  },
  {
   "cell_type": "code",
   "execution_count": 7,
   "metadata": {},
   "outputs": [
    {
     "name": "stdout",
     "output_type": "stream",
     "text": [
      "\n",
      "\n",
      "-----\n",
      "holoviews:\n",
      "\n",
      "69\n",
      "0.0000345\n",
      "The holoviews python package is a library that allows you to create and view holoviews files.\n",
      "\n",
      "\n",
      "-----\n",
      "bokeh:\n",
      "\n",
      "67\n",
      "0.0000335\n",
      "The bokeh python package is a library that allows you to create bokeh effects in your videos.\n",
      "\n",
      "\n",
      "-----\n",
      "leather:\n",
      "\n",
      "59\n",
      "0.0000295\n",
      "Leather Python is a Python package that provides a library for working with leather.\n",
      "\n",
      "\n",
      "-----\n",
      "pymc3:\n",
      "\n",
      "66\n",
      "0.0000330\n",
      "pymc3 is a Python package that provides a library for managing and analyzing machine learning models.\n",
      "\n",
      "\n",
      "-----\n",
      "easyfinance:\n",
      "\n",
      "62\n",
      "0.0000310\n",
      "The easyfinance package is a Python library that helps you easily calculate financial ratios.\n"
     ]
    }
   ],
   "source": [
    "for package, response in zip(packages, responses):\n",
    "    print(f\"\\n\\n-----\\n{package}:\\n\")\n",
    "    print(response.openai_result.usage_total_tokens)\n",
    "    print(f\"{response.openai_result.cost_total:.7f}\")\n",
    "    print(response.openai_result.reply)"
   ]
  },
  {
   "cell_type": "code",
   "execution_count": 8,
   "metadata": {},
   "outputs": [
    {
     "data": {
      "text/plain": [
       "25"
      ]
     },
     "execution_count": 8,
     "metadata": {},
     "output_type": "execute_result"
    }
   ],
   "source": [
    "responses[0].openai_result.usage_completion_tokens"
   ]
  },
  {
   "cell_type": "code",
   "execution_count": 9,
   "metadata": {},
   "outputs": [
    {
     "data": {
      "text/plain": [
       "69"
      ]
     },
     "execution_count": 9,
     "metadata": {},
     "output_type": "execute_result"
    }
   ],
   "source": [
    "responses[0].openai_result.usage_total_tokens"
   ]
  }
 ],
 "metadata": {
  "kernelspec": {
   "display_name": "Python 3",
   "language": "python",
   "name": "python3"
  },
  "language_info": {
   "codemirror_mode": {
    "name": "ipython",
    "version": 3
   },
   "file_extension": ".py",
   "mimetype": "text/x-python",
   "name": "python",
   "nbconvert_exporter": "python",
   "pygments_lexer": "ipython3",
   "version": "3.11.3"
  },
  "orig_nbformat": 4
 },
 "nbformat": 4,
 "nbformat_minor": 2
}
