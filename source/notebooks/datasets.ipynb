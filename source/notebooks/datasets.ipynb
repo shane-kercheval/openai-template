{
 "cells": [
  {
   "cell_type": "code",
   "execution_count": 7,
   "metadata": {},
   "outputs": [],
   "source": [
    "%run \"/code/source/notebooks/notebook_settings.py\"\n",
    "import pandas as pd\n",
    "from source.service.datasets import DATA"
   ]
  },
  {
   "cell_type": "code",
   "execution_count": 8,
   "metadata": {},
   "outputs": [
    {
     "data": {
      "text/plain": [
       "['raw__reddit', 'reddit']"
      ]
     },
     "execution_count": 8,
     "metadata": {},
     "output_type": "execute_result"
    }
   ],
   "source": [
    "DATA.datasets"
   ]
  },
  {
   "cell_type": "code",
   "execution_count": 9,
   "metadata": {},
   "outputs": [
    {
     "name": "stderr",
     "output_type": "stream",
     "text": [
      "2023-04-09 16:35:55 - INFO     | Loading data `reddit` from `data/processed/reddit.pkl`\n"
     ]
    },
    {
     "data": {
      "text/html": [
       "<div>\n",
       "<style scoped>\n",
       "    .dataframe tbody tr th:only-of-type {\n",
       "        vertical-align: middle;\n",
       "    }\n",
       "\n",
       "    .dataframe tbody tr th {\n",
       "        vertical-align: top;\n",
       "    }\n",
       "\n",
       "    .dataframe thead th {\n",
       "        text-align: right;\n",
       "    }\n",
       "</style>\n",
       "<table border=\"1\" class=\"dataframe tex2jax_ignore\">\n",
       "  <thead>\n",
       "    <tr style=\"text-align: right;\">\n",
       "      <th></th>\n",
       "      <th>id</th>\n",
       "      <th>subreddit</th>\n",
       "      <th>title</th>\n",
       "      <th>post</th>\n",
       "      <th>text</th>\n",
       "    </tr>\n",
       "  </thead>\n",
       "  <tbody>\n",
       "    <tr>\n",
       "      <th>0</th>\n",
       "      <td>6y0l40</td>\n",
       "      <td>Volvo</td>\n",
       "      <td>2012 c30 spoiler holding water</td>\n",
       "      <td>Lately my car has been a magnet for for dings and other mishaps while parked in my reserved spot and have been parking elsewhere which is unfortunately under a tree. I've noticed after a night of ...</td>\n",
       "      <td>2012 c30 spoiler holding water - Lately my car has been a magnet for for dings and other mishaps while parked in my reserved spot and have been parking elsewhere which is unfortunately under a tre...</td>\n",
       "    </tr>\n",
       "    <tr>\n",
       "      <th>1</th>\n",
       "      <td>7w66o5</td>\n",
       "      <td>Volvo</td>\n",
       "      <td>About to purchase 2014 V60, anything I should be aware of?</td>\n",
       "      <td>My 2004 V50 is slowly but surely giving up, it feels like I replaced half of the replaceable parts and got the other half repaired within the last year and I think it's time to let him go, especia...</td>\n",
       "      <td>About to purchase 2014 V60, anything I should be aware of? - My 2004 V50 is slowly but surely giving up, it feels like I replaced half of the replaceable parts and got the other half repaired with...</td>\n",
       "    </tr>\n",
       "    <tr>\n",
       "      <th>2</th>\n",
       "      <td>6ujf4y</td>\n",
       "      <td>Volvo</td>\n",
       "      <td>Experiencing the new XC60</td>\n",
       "      <td>I test drove the XC60 T8 yesterday and Oh. My. God is it quick. I was obviously aware of the performance numbers (bhp, 0-60 times etc), but it's a completely different experience trying it out for...</td>\n",
       "      <td>Experiencing the new XC60 - I test drove the XC60 T8 yesterday and Oh. My. God is it quick. I was obviously aware of the performance numbers (bhp, 0-60 times etc), but it's a completely different ...</td>\n",
       "    </tr>\n",
       "    <tr>\n",
       "      <th>3</th>\n",
       "      <td>70pr0e</td>\n",
       "      <td>Volvo</td>\n",
       "      <td>Pilot Assist 2 upgrade 2016 xc90</td>\n",
       "      <td>I am looking to pick up a used 2016 and am really interested in the Pilot Assist 2 retro fit upgrade that can be added.&lt;lb&gt;&lt;lb&gt;What do i need to look for to make sure the 2016 model i get can be r...</td>\n",
       "      <td>Pilot Assist 2 upgrade 2016 xc90 - I am looking to pick up a used 2016 and am really interested in the Pilot Assist 2 retro fit upgrade that can be added.&lt;lb&gt;&lt;lb&gt;What do i need to look for to make...</td>\n",
       "    </tr>\n",
       "    <tr>\n",
       "      <th>4</th>\n",
       "      <td>4uqr9q</td>\n",
       "      <td>Volvo</td>\n",
       "      <td>2013 XC60 Negotiation with Volvo dealership</td>\n",
       "      <td>I am in the middle of a negotiation on the price of a 2013 XC60. We are off by 1k. I am debating about throwing out a request that he upgrades the software in my 2006 2.5 xc90 AWD with the polesta...</td>\n",
       "      <td>2013 XC60 Negotiation with Volvo dealership - I am in the middle of a negotiation on the price of a 2013 XC60. We are off by 1k. I am debating about throwing out a request that he upgrades the sof...</td>\n",
       "    </tr>\n",
       "  </tbody>\n",
       "</table>\n",
       "</div>"
      ],
      "text/plain": [
       "       id subreddit   \n",
       "0  6y0l40     Volvo  \\\n",
       "1  7w66o5     Volvo   \n",
       "2  6ujf4y     Volvo   \n",
       "3  70pr0e     Volvo   \n",
       "4  4uqr9q     Volvo   \n",
       "\n",
       "                                                        title   \n",
       "0                              2012 c30 spoiler holding water  \\\n",
       "1  About to purchase 2014 V60, anything I should be aware of?   \n",
       "2                                   Experiencing the new XC60   \n",
       "3                            Pilot Assist 2 upgrade 2016 xc90   \n",
       "4                 2013 XC60 Negotiation with Volvo dealership   \n",
       "\n",
       "                                                                                                                                                                                                      post   \n",
       "0  Lately my car has been a magnet for for dings and other mishaps while parked in my reserved spot and have been parking elsewhere which is unfortunately under a tree. I've noticed after a night of ...  \\\n",
       "1  My 2004 V50 is slowly but surely giving up, it feels like I replaced half of the replaceable parts and got the other half repaired within the last year and I think it's time to let him go, especia...   \n",
       "2  I test drove the XC60 T8 yesterday and Oh. My. God is it quick. I was obviously aware of the performance numbers (bhp, 0-60 times etc), but it's a completely different experience trying it out for...   \n",
       "3  I am looking to pick up a used 2016 and am really interested in the Pilot Assist 2 retro fit upgrade that can be added.<lb><lb>What do i need to look for to make sure the 2016 model i get can be r...   \n",
       "4  I am in the middle of a negotiation on the price of a 2013 XC60. We are off by 1k. I am debating about throwing out a request that he upgrades the software in my 2006 2.5 xc90 AWD with the polesta...   \n",
       "\n",
       "                                                                                                                                                                                                      text  \n",
       "0  2012 c30 spoiler holding water - Lately my car has been a magnet for for dings and other mishaps while parked in my reserved spot and have been parking elsewhere which is unfortunately under a tre...  \n",
       "1  About to purchase 2014 V60, anything I should be aware of? - My 2004 V50 is slowly but surely giving up, it feels like I replaced half of the replaceable parts and got the other half repaired with...  \n",
       "2  Experiencing the new XC60 - I test drove the XC60 T8 yesterday and Oh. My. God is it quick. I was obviously aware of the performance numbers (bhp, 0-60 times etc), but it's a completely different ...  \n",
       "3  Pilot Assist 2 upgrade 2016 xc90 - I am looking to pick up a used 2016 and am really interested in the Pilot Assist 2 retro fit upgrade that can be added.<lb><lb>What do i need to look for to make...  \n",
       "4  2013 XC60 Negotiation with Volvo dealership - I am in the middle of a negotiation on the price of a 2013 XC60. We are off by 1k. I am debating about throwing out a request that he upgrades the sof...  "
      ]
     },
     "execution_count": 9,
     "metadata": {},
     "output_type": "execute_result"
    }
   ],
   "source": [
    "reddit = DATA.reddit.load()\n",
    "reddit.head()"
   ]
  },
  {
   "cell_type": "code",
   "execution_count": 10,
   "metadata": {},
   "outputs": [
    {
     "data": {
      "text/html": [
       "<style type=\"text/css\">\n",
       "</style>\n",
       "<table id=\"T_3de2d\">\n",
       "  <thead>\n",
       "    <tr>\n",
       "      <th id=\"T_3de2d_level0_col0\" class=\"col_heading level0 col0\" >dataset</th>\n",
       "      <th id=\"T_3de2d_level0_col1\" class=\"col_heading level0 col1\" >description</th>\n",
       "    </tr>\n",
       "  </thead>\n",
       "  <tbody>\n",
       "    <tr>\n",
       "      <td id=\"T_3de2d_row0_col0\" class=\"data row0 col0\" >raw__reddit</td>\n",
       "      <td id=\"T_3de2d_row0_col1\" class=\"data row0 col1\" >reddit data - raw</td>\n",
       "    </tr>\n",
       "    <tr>\n",
       "      <td id=\"T_3de2d_row1_col0\" class=\"data row1 col0\" >reddit</td>\n",
       "      <td id=\"T_3de2d_row1_col1\" class=\"data row1 col1\" >reddit data</td>\n",
       "    </tr>\n",
       "  </tbody>\n",
       "</table>\n"
      ],
      "text/plain": [
       "<pandas.io.formats.style.Styler at 0xffff291f4a90>"
      ]
     },
     "execution_count": 10,
     "metadata": {},
     "output_type": "execute_result"
    }
   ],
   "source": [
    "pd.DataFrame(DATA.descriptions).style.hide(axis='index')"
   ]
  },
  {
   "cell_type": "code",
   "execution_count": 11,
   "metadata": {},
   "outputs": [
    {
     "data": {
      "text/html": [
       "<style type=\"text/css\">\n",
       "</style>\n",
       "<table id=\"T_69149\">\n",
       "  <thead>\n",
       "    <tr>\n",
       "      <th id=\"T_69149_level0_col0\" class=\"col_heading level0 col0\" >dataset</th>\n",
       "      <th id=\"T_69149_level0_col1\" class=\"col_heading level0 col1\" >dependencies</th>\n",
       "    </tr>\n",
       "  </thead>\n",
       "  <tbody>\n",
       "    <tr>\n",
       "      <td id=\"T_69149_row0_col0\" class=\"data row0 col0\" >raw__reddit</td>\n",
       "      <td id=\"T_69149_row0_col1\" class=\"data row0 col1\" >[]</td>\n",
       "    </tr>\n",
       "    <tr>\n",
       "      <td id=\"T_69149_row1_col0\" class=\"data row1 col0\" >reddit</td>\n",
       "      <td id=\"T_69149_row1_col1\" class=\"data row1 col1\" >['raw__reddit']</td>\n",
       "    </tr>\n",
       "  </tbody>\n",
       "</table>\n"
      ],
      "text/plain": [
       "<pandas.io.formats.style.Styler at 0xffff29169e10>"
      ]
     },
     "execution_count": 11,
     "metadata": {},
     "output_type": "execute_result"
    }
   ],
   "source": [
    "pd.DataFrame(DATA.dependencies).style.hide(axis='index')"
   ]
  },
  {
   "attachments": {},
   "cell_type": "markdown",
   "metadata": {},
   "source": [
    "---"
   ]
  }
 ],
 "metadata": {
  "kernelspec": {
   "display_name": "Python 3",
   "language": "python",
   "name": "python3"
  },
  "language_info": {
   "codemirror_mode": {
    "name": "ipython",
    "version": 3
   },
   "file_extension": ".py",
   "mimetype": "text/x-python",
   "name": "python",
   "nbconvert_exporter": "python",
   "pygments_lexer": "ipython3",
   "version": "3.11.3"
  },
  "orig_nbformat": 4
 },
 "nbformat": 4,
 "nbformat_minor": 2
}
