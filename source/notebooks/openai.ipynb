{
 "cells": [
  {
   "cell_type": "code",
   "execution_count": 8,
   "metadata": {},
   "outputs": [],
   "source": [
    "%run \"/code/source/notebooks/notebook_settings.py\"\n",
    "import source.library.openai as openai\n",
    "# This is needed because openai.text_completion calls asynchronous functions but \n",
    "# Jupyter is already running its own event loop.\n",
    "import nest_asyncio\n",
    "nest_asyncio.apply()\n",
    "\n",
    "\n",
    "with open('/.openai_api_key', 'r') as handle:\n",
    "    openai.API_KEY = handle.read().strip()"
   ]
  },
  {
   "cell_type": "code",
   "execution_count": 16,
   "metadata": {},
   "outputs": [],
   "source": [
    "def generate_prompt(package: str) -> str:\n",
    "    template = f\"\"\"\n",
    "    Describe the {package} python package, if it exists. Be as accurate as possible\n",
    "    and don't create descriptions for packages that don't exist.\n",
    "    \"\"\"\n",
    "    return template\n",
    "\n",
    "\n",
    "packages = ['holoviews', 'bokeh', 'leather', 'pymc3', 'easyfinance']\n",
    "prompts = [generate_prompt(x) for x in packages]\n",
    "responses = openai.text_completion(model='text-babbage-001', prompts=prompts, max_tokens=200)"
   ]
  },
  {
   "cell_type": "code",
   "execution_count": 17,
   "metadata": {},
   "outputs": [
    {
     "data": {
      "text/plain": [
       "[OpenAIResponse(response_status=200, response_reason='OK', openai_result=OpenAIResult(result={'id': 'cmpl-73EjF71JUKntrawk0x2QcR0jPWleC', 'object': 'text_completion', 'created': 1681005957, 'model': 'text-babbage-001', 'choices': [{'text': '\\n\\nThe holoviews python package is a library that allows you to create and view holoviews files.', 'index': 0, 'logprobs': None, 'finish_reason': 'stop'}], 'usage': {'prompt_tokens': 44, 'completion_tokens': 25, 'total_tokens': 69}})),\n",
       " OpenAIResponse(response_status=200, response_reason='OK', openai_result=OpenAIResult(result={'id': 'cmpl-73EjFoRLYk3ljfk2SquCQQpj0APoR', 'object': 'text_completion', 'created': 1681005957, 'model': 'text-babbage-001', 'choices': [{'text': '\\n\\nThe bokeh python package is a library that allows you to create bokeh effects in your videos.', 'index': 0, 'logprobs': None, 'finish_reason': None}], 'usage': {'prompt_tokens': 43, 'completion_tokens': 24, 'total_tokens': 67}})),\n",
       " OpenAIResponse(response_status=200, response_reason='OK', openai_result=OpenAIResult(result={'id': 'cmpl-73EjFbISnOBEAWiagzmVg223JNBe4', 'object': 'text_completion', 'created': 1681005957, 'model': 'text-babbage-001', 'choices': [{'text': '\\n\\nLeather Python is a Python package that provides a library for working with leather.', 'index': 0, 'logprobs': None, 'finish_reason': 'stop'}], 'usage': {'prompt_tokens': 41, 'completion_tokens': 18, 'total_tokens': 59}})),\n",
       " OpenAIResponse(response_status=200, response_reason='OK', openai_result=OpenAIResult(result={'id': 'cmpl-73EjFTLcw0NKnkv8mZAacS8to2SXS', 'object': 'text_completion', 'created': 1681005957, 'model': 'text-babbage-001', 'choices': [{'text': '\\n\\npymc3 is a Python package that provides a library for managing and analyzing machine learning models.', 'index': 0, 'logprobs': None, 'finish_reason': 'stop'}], 'usage': {'prompt_tokens': 44, 'completion_tokens': 22, 'total_tokens': 66}})),\n",
       " OpenAIResponse(response_status=200, response_reason='OK', openai_result=OpenAIResult(result={'id': 'cmpl-73EjFz3dlbFXGz9KzBDhzvGcEHHQB', 'object': 'text_completion', 'created': 1681005957, 'model': 'text-babbage-001', 'choices': [{'text': '\\n\\nThe easyfinance package is a Python library that helps you easily calculate financial ratios.', 'index': 0, 'logprobs': None, 'finish_reason': 'stop'}], 'usage': {'prompt_tokens': 43, 'completion_tokens': 19, 'total_tokens': 62}}))]"
      ]
     },
     "execution_count": 17,
     "metadata": {},
     "output_type": "execute_result"
    }
   ],
   "source": [
    "responses"
   ]
  },
  {
   "cell_type": "code",
   "execution_count": 22,
   "metadata": {},
   "outputs": [
    {
     "name": "stdout",
     "output_type": "stream",
     "text": [
      "\n",
      "\n",
      "-----\n",
      "holoviews:\n",
      "\n",
      "69\n",
      "0.0000345\n",
      "The holoviews python package is a library that allows you to create and view holoviews files.\n",
      "\n",
      "\n",
      "-----\n",
      "bokeh:\n",
      "\n",
      "67\n",
      "0.0000335\n",
      "The bokeh python package is a library that allows you to create bokeh effects in your videos.\n",
      "\n",
      "\n",
      "-----\n",
      "leather:\n",
      "\n",
      "59\n",
      "0.0000295\n",
      "Leather Python is a Python package that provides a library for working with leather.\n",
      "\n",
      "\n",
      "-----\n",
      "pymc3:\n",
      "\n",
      "66\n",
      "0.0000330\n",
      "pymc3 is a Python package that provides a library for managing and analyzing machine learning models.\n",
      "\n",
      "\n",
      "-----\n",
      "easyfinance:\n",
      "\n",
      "62\n",
      "0.0000310\n",
      "The easyfinance package is a Python library that helps you easily calculate financial ratios.\n"
     ]
    }
   ],
   "source": [
    "for package, response in zip(packages, responses):\n",
    "    print(f\"\\n\\n-----\\n{package}:\\n\")\n",
    "    print(response.openai_result.usage_total_tokens)\n",
    "    print(f\"{response.openai_result.cost_total:.7f}\")\n",
    "    print(response.openai_result.text)"
   ]
  },
  {
   "cell_type": "code",
   "execution_count": 19,
   "metadata": {},
   "outputs": [
    {
     "data": {
      "text/plain": [
       "25"
      ]
     },
     "execution_count": 19,
     "metadata": {},
     "output_type": "execute_result"
    }
   ],
   "source": [
    "responses[0].openai_result.usage_completion_tokensa"
   ]
  },
  {
   "cell_type": "code",
   "execution_count": 20,
   "metadata": {},
   "outputs": [
    {
     "data": {
      "text/plain": [
       "69"
      ]
     },
     "execution_count": 20,
     "metadata": {},
     "output_type": "execute_result"
    }
   ],
   "source": [
    "responses[0].openai_result.usage_total_tokens\n"
   ]
  },
  {
   "cell_type": "code",
   "execution_count": 28,
   "metadata": {},
   "outputs": [
    {
     "name": "stdout",
     "output_type": "stream",
     "text": [
      "0.00003450\n",
      "0.00003350\n",
      "0.00002950\n"
     ]
    }
   ],
   "source": [
    "print(f\"{responses[0].openai_result.cost_total:.8f}\")\n",
    "print(f\"{responses[1].openai_result.cost_total:.8f}\")\n",
    "print(f\"{responses[2].openai_result.cost_total:.8f}\")"
   ]
  },
  {
   "cell_type": "code",
   "execution_count": 25,
   "metadata": {},
   "outputs": [
    {
     "name": "stdout",
     "output_type": "stream",
     "text": [
      "0.00003450\n"
     ]
    }
   ],
   "source": [
    "from source.library.openai_pricing import PRICING_LOOKUP\n",
    "\n",
    "print(f\"{PRICING_LOOKUP['text-babbage-001'].cost(69):.8f}\")"
   ]
  },
  {
   "cell_type": "code",
   "execution_count": null,
   "metadata": {},
   "outputs": [],
   "source": []
  }
 ],
 "metadata": {
  "kernelspec": {
   "display_name": "Python 3",
   "language": "python",
   "name": "python3"
  },
  "language_info": {
   "codemirror_mode": {
    "name": "ipython",
    "version": 3
   },
   "file_extension": ".py",
   "mimetype": "text/x-python",
   "name": "python",
   "nbconvert_exporter": "python",
   "pygments_lexer": "ipython3",
   "version": "3.11.3"
  },
  "orig_nbformat": 4
 },
 "nbformat": 4,
 "nbformat_minor": 2
}
