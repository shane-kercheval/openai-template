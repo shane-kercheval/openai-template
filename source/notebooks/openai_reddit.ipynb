{
 "cells": [
  {
   "cell_type": "code",
   "execution_count": 1,
   "metadata": {},
   "outputs": [
    {
     "name": "stderr",
     "output_type": "stream",
     "text": [
      "2023-04-09 21:18:49 - INFO     | Loading data `reddit` from `data/processed/reddit.pkl`\n"
     ]
    }
   ],
   "source": [
    "%run \"/code/source/notebooks/notebook_settings.py\"\n",
    "import source.library.openai as oai\n",
    "from source.service.datasets import DATA\n",
    "# This is needed because openai.text_completion calls asynchronous functions but \n",
    "# Jupyter is already running its own event loop.\n",
    "import nest_asyncio\n",
    "nest_asyncio.apply()\n",
    "\n",
    "with open('/.openai_api_key', 'r') as handle:\n",
    "    oai.API_KEY = handle.read().strip()\n",
    "\n",
    "reddit = DATA.reddit.load()"
   ]
  },
  {
   "cell_type": "code",
   "execution_count": 2,
   "metadata": {},
   "outputs": [
    {
     "data": {
      "text/html": [
       "<div>\n",
       "<style scoped>\n",
       "    .dataframe tbody tr th:only-of-type {\n",
       "        vertical-align: middle;\n",
       "    }\n",
       "\n",
       "    .dataframe tbody tr th {\n",
       "        vertical-align: top;\n",
       "    }\n",
       "\n",
       "    .dataframe thead th {\n",
       "        text-align: right;\n",
       "    }\n",
       "</style>\n",
       "<table border=\"1\" class=\"dataframe tex2jax_ignore\">\n",
       "  <thead>\n",
       "    <tr style=\"text-align: right;\">\n",
       "      <th></th>\n",
       "      <th>id</th>\n",
       "      <th>subreddit</th>\n",
       "      <th>title</th>\n",
       "      <th>post</th>\n",
       "      <th>text</th>\n",
       "    </tr>\n",
       "  </thead>\n",
       "  <tbody>\n",
       "    <tr>\n",
       "      <th>0</th>\n",
       "      <td>6y0l40</td>\n",
       "      <td>Volvo</td>\n",
       "      <td>2012 c30 spoiler holding water</td>\n",
       "      <td>Lately my car has been a magnet for for dings and other mishaps while parked in my reserved spot and have been parking elsewhere which is unfortunately under a tree. I've noticed after a night of ...</td>\n",
       "      <td>2012 c30 spoiler holding water - Lately my car has been a magnet for for dings and other mishaps while parked in my reserved spot and have been parking elsewhere which is unfortunately under a tre...</td>\n",
       "    </tr>\n",
       "    <tr>\n",
       "      <th>1</th>\n",
       "      <td>7w66o5</td>\n",
       "      <td>Volvo</td>\n",
       "      <td>About to purchase 2014 V60, anything I should be aware of?</td>\n",
       "      <td>My 2004 V50 is slowly but surely giving up, it feels like I replaced half of the replaceable parts and got the other half repaired within the last year and I think it's time to let him go, especia...</td>\n",
       "      <td>About to purchase 2014 V60, anything I should be aware of? - My 2004 V50 is slowly but surely giving up, it feels like I replaced half of the replaceable parts and got the other half repaired with...</td>\n",
       "    </tr>\n",
       "    <tr>\n",
       "      <th>2</th>\n",
       "      <td>6ujf4y</td>\n",
       "      <td>Volvo</td>\n",
       "      <td>Experiencing the new XC60</td>\n",
       "      <td>I test drove the XC60 T8 yesterday and Oh. My. God is it quick. I was obviously aware of the performance numbers (bhp, 0-60 times etc), but it's a completely different experience trying it out for...</td>\n",
       "      <td>Experiencing the new XC60 - I test drove the XC60 T8 yesterday and Oh. My. God is it quick. I was obviously aware of the performance numbers (bhp, 0-60 times etc), but it's a completely different ...</td>\n",
       "    </tr>\n",
       "    <tr>\n",
       "      <th>3</th>\n",
       "      <td>70pr0e</td>\n",
       "      <td>Volvo</td>\n",
       "      <td>Pilot Assist 2 upgrade 2016 xc90</td>\n",
       "      <td>I am looking to pick up a used 2016 and am really interested in the Pilot Assist 2 retro fit upgrade that can be added.&lt;lb&gt;&lt;lb&gt;What do i need to look for to make sure the 2016 model i get can be r...</td>\n",
       "      <td>Pilot Assist 2 upgrade 2016 xc90 - I am looking to pick up a used 2016 and am really interested in the Pilot Assist 2 retro fit upgrade that can be added.&lt;lb&gt;&lt;lb&gt;What do i need to look for to make...</td>\n",
       "    </tr>\n",
       "    <tr>\n",
       "      <th>4</th>\n",
       "      <td>4uqr9q</td>\n",
       "      <td>Volvo</td>\n",
       "      <td>2013 XC60 Negotiation with Volvo dealership</td>\n",
       "      <td>I am in the middle of a negotiation on the price of a 2013 XC60. We are off by 1k. I am debating about throwing out a request that he upgrades the software in my 2006 2.5 xc90 AWD with the polesta...</td>\n",
       "      <td>2013 XC60 Negotiation with Volvo dealership - I am in the middle of a negotiation on the price of a 2013 XC60. We are off by 1k. I am debating about throwing out a request that he upgrades the sof...</td>\n",
       "    </tr>\n",
       "  </tbody>\n",
       "</table>\n",
       "</div>"
      ],
      "text/plain": [
       "       id subreddit   \n",
       "0  6y0l40     Volvo  \\\n",
       "1  7w66o5     Volvo   \n",
       "2  6ujf4y     Volvo   \n",
       "3  70pr0e     Volvo   \n",
       "4  4uqr9q     Volvo   \n",
       "\n",
       "                                                        title   \n",
       "0                              2012 c30 spoiler holding water  \\\n",
       "1  About to purchase 2014 V60, anything I should be aware of?   \n",
       "2                                   Experiencing the new XC60   \n",
       "3                            Pilot Assist 2 upgrade 2016 xc90   \n",
       "4                 2013 XC60 Negotiation with Volvo dealership   \n",
       "\n",
       "                                                                                                                                                                                                      post   \n",
       "0  Lately my car has been a magnet for for dings and other mishaps while parked in my reserved spot and have been parking elsewhere which is unfortunately under a tree. I've noticed after a night of ...  \\\n",
       "1  My 2004 V50 is slowly but surely giving up, it feels like I replaced half of the replaceable parts and got the other half repaired within the last year and I think it's time to let him go, especia...   \n",
       "2  I test drove the XC60 T8 yesterday and Oh. My. God is it quick. I was obviously aware of the performance numbers (bhp, 0-60 times etc), but it's a completely different experience trying it out for...   \n",
       "3  I am looking to pick up a used 2016 and am really interested in the Pilot Assist 2 retro fit upgrade that can be added.<lb><lb>What do i need to look for to make sure the 2016 model i get can be r...   \n",
       "4  I am in the middle of a negotiation on the price of a 2013 XC60. We are off by 1k. I am debating about throwing out a request that he upgrades the software in my 2006 2.5 xc90 AWD with the polesta...   \n",
       "\n",
       "                                                                                                                                                                                                      text  \n",
       "0  2012 c30 spoiler holding water - Lately my car has been a magnet for for dings and other mishaps while parked in my reserved spot and have been parking elsewhere which is unfortunately under a tre...  \n",
       "1  About to purchase 2014 V60, anything I should be aware of? - My 2004 V50 is slowly but surely giving up, it feels like I replaced half of the replaceable parts and got the other half repaired with...  \n",
       "2  Experiencing the new XC60 - I test drove the XC60 T8 yesterday and Oh. My. God is it quick. I was obviously aware of the performance numbers (bhp, 0-60 times etc), but it's a completely different ...  \n",
       "3  Pilot Assist 2 upgrade 2016 xc90 - I am looking to pick up a used 2016 and am really interested in the Pilot Assist 2 retro fit upgrade that can be added.<lb><lb>What do i need to look for to make...  \n",
       "4  2013 XC60 Negotiation with Volvo dealership - I am in the middle of a negotiation on the price of a 2013 XC60. We are off by 1k. I am debating about throwing out a request that he upgrades the sof...  "
      ]
     },
     "execution_count": 2,
     "metadata": {},
     "output_type": "execute_result"
    }
   ],
   "source": [
    "reddit.head()"
   ]
  },
  {
   "cell_type": "code",
   "execution_count": 3,
   "metadata": {},
   "outputs": [
    {
     "data": {
      "text/plain": [
       "\"2012 c30 spoiler holding water - Lately my car has been a magnet for for dings and other mishaps while parked in my reserved spot and have been parking elsewhere which is unfortunately under a tree. I've noticed after a night of rain when I leave the next day water runs down the back window when I accelerate. Opening the back glass before driving usually means water runs down the sides but I cannot seem to find where it's pooling up. <lb><lb>Anyone know if there's drains in the back hatch that might be clogged? Or is this normal?\""
      ]
     },
     "execution_count": 3,
     "metadata": {},
     "output_type": "execute_result"
    }
   ],
   "source": [
    "reddit.iloc[0]['text']"
   ]
  },
  {
   "cell_type": "code",
   "execution_count": 4,
   "metadata": {},
   "outputs": [
    {
     "name": "stdout",
     "output_type": "stream",
     "text": [
      "0.0585\n"
     ]
    }
   ],
   "source": [
    "# cost to send all reddit posts e.g. as prompts... non-sensical but just getting an idea\n",
    "print(f\"{oai.cost(reddit.iloc[0]['text'], oai.InstructModels.BABBAGE) * len(reddit)}\")"
   ]
  },
  {
   "cell_type": "code",
   "execution_count": 5,
   "metadata": {},
   "outputs": [
    {
     "data": {
      "text/plain": [
       "OpenAIResponses(responses=[OpenAIResponse(response_status=200, response_reason='OK', result=OpenAIInstructResult(result={'id': 'cmpl-73Wiw5sTkBVTv9GDgEH6lCEETk6Qs', 'object': 'text_completion', 'created': 1681075130, 'model': 'text-babbage-001', 'choices': [{'text': ' A c30 spoiler holding water is a common problem on a car parked in a reserved spot. The water can run down the back window if you open the back glass before driving. Sometimes the water pooled up in the back hatch and it was difficult to find where it was coming from.', 'index': 0, 'logprobs': None, 'finish_reason': 'stop'}], 'usage': {'prompt_tokens': 149, 'completion_tokens': 57, 'total_tokens': 206}})), OpenAIResponse(response_status=200, response_reason='OK', result=OpenAIInstructResult(result={'id': 'cmpl-73WiwQi1KzKz6Lx8WuetuKVrHtAFj', 'object': 'text_completion', 'created': 1681075130, 'model': 'text-babbage-001', 'choices': [{'text': ' A V60 2014 model is being tested for a potential sale tomorrow. The owner is not sure if it is possible to take it to a mechanic due to some scheduling conflicts. The car is estimated to be worth around €15,000. The owner wants to be sure they are not missing anything obvious. The owner would like to know if there are any common failure points in the V60 model and what are the extra features worth having.', 'index': 0, 'logprobs': None, 'finish_reason': None}], 'usage': {'prompt_tokens': 306, 'completion_tokens': 88, 'total_tokens': 394}})), OpenAIResponse(response_status=200, response_reason='OK', result=OpenAIInstructResult(result={'id': 'cmpl-73Wiw3ZxbQ2WAQiyuvfG6AwiX3Wj9', 'object': 'text_completion', 'created': 1681075130, 'model': 'text-babbage-001', 'choices': [{'text': ' A man has just test drove a new Volvo XC60 T8 and says it\\'s \"totally different\" to anything he\\'s ever experienced before. He didn\\'t get a chance to take any pictures, but it seems the car is white with the 21\" wheels.', 'index': 0, 'logprobs': None, 'finish_reason': 'stop'}], 'usage': {'prompt_tokens': 240, 'completion_tokens': 55, 'total_tokens': 295}})), OpenAIResponse(response_status=200, response_reason='OK', result=OpenAIInstructResult(result={'id': 'cmpl-73WiwL60cnLAt9HD5FTnE9KIWTFcA', 'object': 'text_completion', 'created': 1681075130, 'model': 'text-babbage-001', 'choices': [{'text': '\\n\\nThe pilot assist 2 upgrade can be added to a 2016 xc90 car using the intellisafe system. However, few listings mention the intellisafe system or the Auto Pilot system. The pilot assist 2 upgrade is also available as a convenience package with the xc90 car. The pilot assist 2 upgrade includes a new system that helps the driver keep their car safe and efficient.', 'index': 0, 'logprobs': None, 'finish_reason': 'stop'}], 'usage': {'prompt_tokens': 193, 'completion_tokens': 81, 'total_tokens': 274}})), OpenAIResponse(response_status=200, response_reason='OK', result=OpenAIInstructResult(result={'id': 'cmpl-73WiwKCPbmiIjiYpGtM8wWQIzSPlc', 'object': 'text_completion', 'created': 1681075130, 'model': 'text-babbage-001', 'choices': [{'text': ' Volvo dealership is not responsible for the polestar update.', 'index': 0, 'logprobs': None, 'finish_reason': 'stop'}], 'usage': {'prompt_tokens': 140, 'completion_tokens': 12, 'total_tokens': 152}})), OpenAIResponse(response_status=200, response_reason='OK', result=OpenAIInstructResult(result={'id': 'cmpl-73Wiw2fWg41YR7wfRbmNWNgct86aC', 'object': 'text_completion', 'created': 1681075130, 'model': 'text-babbage-001', 'choices': [{'text': '\\n\\nSome people have replaced their CV boots, while others have not. It seems like there is still oil in the joint, so it is not necessary to replace the whole joint.', 'index': 0, 'logprobs': None, 'finish_reason': 'stop'}], 'usage': {'prompt_tokens': 118, 'completion_tokens': 37, 'total_tokens': 155}})), OpenAIResponse(response_status=200, response_reason='OK', result=OpenAIInstructResult(result={'id': 'cmpl-73WiwuNvU68tOhnoCBL8MOJxCwwnu', 'object': 'text_completion', 'created': 1681075130, 'model': 'text-babbage-001', 'choices': [{'text': \" The driver's side front wheel sticks out about half an inch further than the front passenger wheel. The car has the IPD HD tie rods. The car has been bouncing the front end of the car. The only thing that I can figure out is that the strut mounts are causing the wheel to stick out more.\", 'index': 0, 'logprobs': None, 'finish_reason': 'stop'}], 'usage': {'prompt_tokens': 203, 'completion_tokens': 63, 'total_tokens': 266}})), OpenAIResponse(response_status=200, response_reason='OK', result=OpenAIInstructResult(result={'id': 'cmpl-73Wiww7kZzBizaHMwZBHsgEVvKmrm', 'object': 'text_completion', 'created': 1681075130, 'model': 'text-babbage-001', 'choices': [{'text': \" A shield for a component attached to the undercarriage of a Volvo 240. The bolt circled on the diagram is the one that is bent inwards and it is attached to the undercarriage with three ~12mm bolts. The buzzing at idle is most likely caused by the fuel pump being working harder than normal, but it could also be due to the damage the person did to the part. The person who posted this also said that they had tried to reattach the part but it didn't work.\", 'index': 0, 'logprobs': None, 'finish_reason': 'stop'}], 'usage': {'prompt_tokens': 258, 'completion_tokens': 102, 'total_tokens': 360}})), OpenAIResponse(response_status=200, response_reason='OK', result=OpenAIInstructResult(result={'id': 'cmpl-73WiwzZs6Xqp0khJOb68odIK3nkwm', 'object': 'text_completion', 'created': 1681075130, 'model': 'text-babbage-001', 'choices': [{'text': ' A moose lover\\'s dream come true! They can finally meet their moose at a meet and greet on the east coast. If we have enough moose lovers that want to get together and show their moose pride, we can get ipd and other vendors to come out and hook us up with schtuff! I\\'m in the Atlanta Georgia area with a 94 (built 3/94) 850 turbo sedan 2.3l. It\\'s not pristine but I\\'m working on it... Giving as much love as I can afford at the moment (getting the engine mechanicals and safety issues aken care of before makin her purdy). We named her the \"vulva whip\". I\\'d like to see her dressed in a hot yellow paint job with some nicer Volvo wheels. Anyway the real deal is trying to get a bunch of us together for a damn meet n greet somewhere on the east coast at some time in the future with some vendors like IPD!!', 'index': 0, 'logprobs': None, 'finish_reason': 'stop'}], 'usage': {'prompt_tokens': 237, 'completion_tokens': 197, 'total_tokens': 434}})), OpenAIResponse(response_status=200, response_reason='OK', result=OpenAIInstructResult(result={'id': 'cmpl-73WiwR3Zugw2ypG9vBvNAYNNmPfpY', 'object': 'text_completion', 'created': 1681075130, 'model': 'text-babbage-001', 'choices': [{'text': \" The author wants to add fog lights to their S60, but is unsure if it's as easy as it sounds or if they need anything other than these fog lights. They also want to know how much it costs to get the software activation and button put in.\", 'index': 0, 'logprobs': None, 'finish_reason': 'stop'}], 'usage': {'prompt_tokens': 299, 'completion_tokens': 53, 'total_tokens': 352}}))])"
      ]
     },
     "execution_count": 5,
     "metadata": {},
     "output_type": "execute_result"
    }
   ],
   "source": [
    "def generate_prompt(post: str) -> str:\n",
    "    template = f\"\"\"\n",
    "    Summarize this reddit post:\n",
    "\n",
    "    ```\n",
    "    {post}\n",
    "    ```\n",
    "    \"\"\"\n",
    "    return template\n",
    "\n",
    "posts = reddit['text'].iloc[0:10]\n",
    "prompts = [generate_prompt(x) for x in posts]\n",
    "responses = oai.text_completion(model=oai.InstructModels.BABBAGE, prompts=prompts, max_tokens=200)\n",
    "responses"
   ]
  },
  {
   "cell_type": "code",
   "execution_count": 6,
   "metadata": {},
   "outputs": [],
   "source": [
    "assert not responses.any_errors\n",
    "assert not responses.any_missing_data"
   ]
  },
  {
   "cell_type": "code",
   "execution_count": 7,
   "metadata": {},
   "outputs": [
    {
     "name": "stdout",
     "output_type": "stream",
     "text": [
      "$0.0014\n"
     ]
    }
   ],
   "source": [
    "print(f\"${responses.total_cost:.4f}\")"
   ]
  },
  {
   "cell_type": "code",
   "execution_count": 8,
   "metadata": {},
   "outputs": [
    {
     "name": "stdout",
     "output_type": "stream",
     "text": [
      "149\n",
      "57\n"
     ]
    }
   ],
   "source": [
    "print(responses[0].result.usage_prompt_tokens)\n",
    "print(responses[0].result.usage_completion_tokens)\n"
   ]
  },
  {
   "cell_type": "code",
   "execution_count": 9,
   "metadata": {},
   "outputs": [
    {
     "name": "stdout",
     "output_type": "stream",
     "text": [
      "\n",
      "\n",
      "---------\n",
      "Total Cost: $0.00010\n",
      "Total Tokens: 206; Prompt Tokens: 149; Completion Tokens: 57\n",
      "Post: `2012 c30 spoiler holding water - Lately my car has been a magnet for for dings and other mishaps while parked in my reserved spot and have been parking elsewhere which is unfortunately under a tree. I've noticed after a night of rain when I leave the next day water runs down the back window when I accelerate. Opening the back glass before driving usually means water runs down the sides but I cannot seem to find where it's pooling up. <lb><lb>Anyone know if there's drains in the back hatch that might be clogged? Or is this normal?`\n",
      "Summary: `A c30 spoiler holding water is a common problem on a car parked in a reserved spot. The water can run down the back window if you open the back glass before driving. Sometimes the water pooled up in the back hatch and it was difficult to find where it was coming from.`\n",
      "\n",
      "\n",
      "---------\n",
      "Total Cost: $0.00020\n",
      "Total Tokens: 394; Prompt Tokens: 306; Completion Tokens: 88\n",
      "Post: `About to purchase 2014 V60, anything I should be aware of? - My 2004 V50 is slowly but surely giving up, it feels like I replaced half of the replaceable parts and got the other half repaired within the last year and I think it's time to let him go, especially after the last week's ignition failure that's going to cost another €200 to fix. <lb><lb>As I rather liked driving a Volvo for the last couple of years I found this V60 (2014 model, first registration in 2015, D4, manual, ~85'000km) nearby that I'm about to go for a test ride with tomorrow. I'll try taking it to a friendly mechanic (having a friendly car shop is a must if you own a 14 y.o. V50), but I'm not sure if that would be possible due to some scheduling conflicts. At ~€15000 it's going to be the most expensive car I ever owned, so I just want to be sure I'm not missing anything obvious.<lb><lb>Is there any common failure point that it's worth to look at in this model? What are the extra features worth having that I should check for?<lb><lb>if it's not a right place to ask such questions, please excuse me and point me in the right direction.`\n",
      "Summary: `A V60 2014 model is being tested for a potential sale tomorrow. The owner is not sure if it is possible to take it to a mechanic due to some scheduling conflicts. The car is estimated to be worth around €15,000. The owner wants to be sure they are not missing anything obvious. The owner would like to know if there are any common failure points in the V60 model and what are the extra features worth having.`\n",
      "\n",
      "\n",
      "---------\n",
      "Total Cost: $0.00015\n",
      "Total Tokens: 295; Prompt Tokens: 240; Completion Tokens: 55\n",
      "Post: `Experiencing the new XC60 - I test drove the XC60 T8 yesterday and Oh. My. God is it quick. I was obviously aware of the performance numbers (bhp, 0-60 times etc), but it's a completely different experience trying it out for yourself.<lb><lb>I've never had a powerful petrol engine car before (mainly diesels and smaller hatch backs) but I do have an EV (e-golf) which as well is pretty spiffy up to about 40 mph. This Volvo, however, is a totally different beast. Comfort-wise it was also very high end, but the infotainment definitely takes some getting used to. Didn't get a chance to take any pictures, but it was a white R-design with the 21\" wheels.<lb><lb>All in all I am pretty damn excited for delivery of my very own later this year. <lb><lb>Anyone else had a chance to try it out yet? Experiences?`\n",
      "Summary: `A man has just test drove a new Volvo XC60 T8 and says it's \"totally different\" to anything he's ever experienced before. He didn't get a chance to take any pictures, but it seems the car is white with the 21\" wheels.`\n",
      "\n",
      "\n",
      "---------\n",
      "Total Cost: $0.00014\n",
      "Total Tokens: 274; Prompt Tokens: 193; Completion Tokens: 81\n",
      "Post: `Pilot Assist 2 upgrade 2016 xc90 - I am looking to pick up a used 2016 and am really interested in the Pilot Assist 2 retro fit upgrade that can be added.<lb><lb>What do i need to look for to make sure the 2016 model i get can be retrofitted? <lb><lb>I thought i had it figured out with intellisafe, but when i look through pages of listings very few mention intellisafe or Auto Pilot at all.  <lb><lb>Then i thought i was included with the convenience package, but noticed the convenience package was the park auto pilot.<lb><lb>I want to make sure im looking at only 2016 models that can be upgraded to Pilot Assist 2 to via the software retrofit.<lb><lb>Thanks`\n",
      "Summary: `The pilot assist 2 upgrade can be added to a 2016 xc90 car using the intellisafe system. However, few listings mention the intellisafe system or the Auto Pilot system. The pilot assist 2 upgrade is also available as a convenience package with the xc90 car. The pilot assist 2 upgrade includes a new system that helps the driver keep their car safe and efficient.`\n",
      "\n",
      "\n",
      "---------\n",
      "Total Cost: $0.00008\n",
      "Total Tokens: 152; Prompt Tokens: 140; Completion Tokens: 12\n",
      "Post: `2013 XC60 Negotiation with Volvo dealership - I am in the middle of a negotiation on the price of a 2013 XC60. We are off by 1k. I am debating about throwing out a request that he upgrades the software in my 2006 2.5 xc90 AWD with the polestar update. Then I will pay his price for the XC60. Is the polestar update something the dealership actually pays for or is it something that they can just write off?<lb><lb>Thanks!`\n",
      "Summary: `Volvo dealership is not responsible for the polestar update.`\n",
      "\n",
      "\n",
      "---------\n",
      "Total Cost: $0.00008\n",
      "Total Tokens: 155; Prompt Tokens: 118; Completion Tokens: 37\n",
      "Post: `Has anybody replaced their CV Boots? - I pulled off my front passenger tire because it was leaking air and I found a staple in it but I noticed a bunch of grease all along the inside of the wheel and the wheel well so I will need to get he CV boot replaced. It looked like there was still oil in the joint so I hopefully won’t need to replace the whole joint. Has anybody here done it?`\n",
      "Summary: `Some people have replaced their CV boots, while others have not. It seems like there is still oil in the joint, so it is not necessary to replace the whole joint.`\n",
      "\n",
      "\n",
      "---------\n",
      "Total Cost: $0.00013\n",
      "Total Tokens: 266; Prompt Tokens: 203; Completion Tokens: 63\n",
      "Post: `850 Turbo wagon bottoming out - I have a 96 850 Turbo Wagon, and it's been bottoming out on the front passenger side wheel. It's bottoming out so bad some times that it's shaved a bit off the tire in a thin line, and pulled the lip of the fender out and down. I've noticed it mostly when I pull into driveways, especially when turning right into my own driveway, but lately it's been happening on the freeway as well.<lb><lb>The only thing that I can notice is that the driver's side front wheel sticks out about half an inch further than the front passenger wheel. I checked the strut mounts, I bounced the front end of the car, and I have the IPD HD tie rods. I can't for the life of me figure out why it's doing this.`\n",
      "Summary: `The driver's side front wheel sticks out about half an inch further than the front passenger wheel. The car has the IPD HD tie rods. The car has been bouncing the front end of the car. The only thing that I can figure out is that the strut mounts are causing the wheel to stick out more.`\n",
      "\n",
      "\n",
      "---------\n",
      "Total Cost: $0.00018\n",
      "Total Tokens: 360; Prompt Tokens: 258; Completion Tokens: 102\n",
      "Post: `What is this part on the undercarriage of a volvo 240? - I slightly bent inwards this \"thing\" which is attached to the under carriage of my 1993 Volvo 245. It is connected by three ~12mm bolts and it seems to be a shield for some sort of component to which it is attached.<lb><lb><lb>Is it a fuel pump? After I damaged it I noticed a buzzing at idle which I read elsewhere indicates the fuel pump is working harder than normal. But that might be happening because I am low on fuel which I read was a possible cause of a buzzing fuel pump. The buzzing seems to have stop or quieted since I loosened the two bolts toward the rear of the car, tried to bend the area I damaged back out a bit and then reattached the piece to the undercarriage.<lb><lb><lb>Here is a picture of the part circled on a diagram of the 240 undercarriage.<lb><lb><lb>http://imgur.com/a/Pyx3k<lb><lb><lb>Thanks for your help!`\n",
      "Summary: `A shield for a component attached to the undercarriage of a Volvo 240. The bolt circled on the diagram is the one that is bent inwards and it is attached to the undercarriage with three ~12mm bolts. The buzzing at idle is most likely caused by the fuel pump being working harder than normal, but it could also be due to the damage the person did to the part. The person who posted this also said that they had tried to reattach the part but it didn't work.`\n",
      "\n",
      "\n",
      "---------\n",
      "Total Cost: $0.00022\n",
      "Total Tokens: 434; Prompt Tokens: 237; Completion Tokens: 197\n",
      "Post: `Who would drive their moose to a meet and greet on the east coast somewhere. -  If we have enough moose lovers that wanna get together and show  our moose pride. We can get ipd and other venders to come out and hook us up with schtuff! <lb><lb>I'm in the Atlanta Georgia area with a 94 (built 3/94) 850 turbo sedan 2.3l. Its not pristine but I'm working on it... Giving as much love as i can afford at the moment (getting the engine mechanicals and safety issues aken care of before makin her purdy). We named her the \"vulva whip\". I'd like to see her dressed in a hot yellow paint job with some nicer Volvo wheels. <lb><lb>Anyway the real deal is trying to get a bunch of us together for a damn meet n greet somewhere on the east coast at some time in the future with some vendors like IPD!! <lb><lb>`\n",
      "Summary: `A moose lover's dream come true! They can finally meet their moose at a meet and greet on the east coast. If we have enough moose lovers that want to get together and show their moose pride, we can get ipd and other vendors to come out and hook us up with schtuff! I'm in the Atlanta Georgia area with a 94 (built 3/94) 850 turbo sedan 2.3l. It's not pristine but I'm working on it... Giving as much love as I can afford at the moment (getting the engine mechanicals and safety issues aken care of before makin her purdy). We named her the \"vulva whip\". I'd like to see her dressed in a hot yellow paint job with some nicer Volvo wheels. Anyway the real deal is trying to get a bunch of us together for a damn meet n greet somewhere on the east coast at some time in the future with some vendors like IPD!!`\n",
      "\n",
      "\n",
      "---------\n",
      "Total Cost: $0.00018\n",
      "Total Tokens: 352; Prompt Tokens: 299; Completion Tokens: 53\n",
      "Post: `Adding fog lights to '01 S60 - Per the title, I want to add fog lights to my S60.  It has the [holes in the bumper](http://i.imgur.com/YznrCvS.jpg) for them, and from what I've seen it's more or less plug and play.  Mostly I want to know if it's as easy as it sounds, and if I need anything other than [these](http://www.ebay.com/itm/TYC-Fog-Lights-Driving-Lamps-Assy-with-bulbs-PAIR-fits-2001-2004-VOLVO-S60-/112253277363?fits=Make%3AVolvo%7CModel%3AS60&amp;hash=item1a22d114b3:g:YCwAAOSwo4pYb6Zy&amp;vxp=mtr).  Also, how much does it cost to get the software activation and button put in?<lb><lb><lb>Also, if you're still reading this, what are my best options for fixing/replacing the front badge?  As you can see in the photo, it's falling apart a little.`\n",
      "Summary: `The author wants to add fog lights to their S60, but is unsure if it's as easy as it sounds or if they need anything other than these fog lights. They also want to know how much it costs to get the software activation and button put in.`\n"
     ]
    }
   ],
   "source": [
    "for response, post in zip(responses, posts):\n",
    "    print(f\"\\n\\n---------\\nTotal Cost: ${response.result.cost_total:.5f}\")\n",
    "    print(\n",
    "        f\"Total Tokens: {response.result.usage_total_tokens}; \"\n",
    "        f\"Prompt Tokens: {response.result.usage_prompt_tokens}; \"\n",
    "        f\"Completion Tokens: {response.result.usage_completion_tokens}\"\n",
    "    )\n",
    "    print(f\"Post: `{post}`\")\n",
    "    print(f\"Summary: `{response.result.reply}`\")"
   ]
  },
  {
   "attachments": {},
   "cell_type": "markdown",
   "metadata": {},
   "source": [
    "---"
   ]
  }
 ],
 "metadata": {
  "kernelspec": {
   "display_name": "Python 3",
   "language": "python",
   "name": "python3"
  },
  "language_info": {
   "codemirror_mode": {
    "name": "ipython",
    "version": 3
   },
   "file_extension": ".py",
   "mimetype": "text/x-python",
   "name": "python",
   "nbconvert_exporter": "python",
   "pygments_lexer": "ipython3",
   "version": "3.11.3"
  },
  "orig_nbformat": 4
 },
 "nbformat": 4,
 "nbformat_minor": 2
}
